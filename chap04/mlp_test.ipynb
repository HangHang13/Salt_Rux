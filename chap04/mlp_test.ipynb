{
 "cells": [
  {
   "cell_type": "code",
   "execution_count": 1,
   "id": "c303d13c",
   "metadata": {},
   "outputs": [
    {
     "name": "stdout",
     "output_type": "stream",
     "text": [
      "은닉 계층 0개를 갖는 다층 퍼셉트론이 작동되었습니다.\n",
      "Epoch1: loss=102.255, accuracy=0.025/0.056\n",
      "Epoch2: loss=101.647, accuracy=0.082/0.112\n",
      "Epoch3: loss=88.993, accuracy=0.141/0.167\n",
      "Epoch4: loss=68.039, accuracy=0.189/0.212\n",
      "Epoch5: loss=70.274, accuracy=0.232/0.259\n",
      "Epoch6: loss=58.092, accuracy=0.283/0.302\n",
      "Epoch7: loss=59.852, accuracy=0.316/0.343\n",
      "Epoch8: loss=50.557, accuracy=0.358/0.380\n",
      "Epoch9: loss=44.589, accuracy=0.394/0.417\n",
      "Epoch10: loss=44.187, accuracy=0.439/0.453\n",
      "\n",
      "Final Test: final accuracy = 0.453\n"
     ]
    }
   ],
   "source": [
    "#단층 퍼셉트론 처리하기, 전복 고리 수 추정문제\n",
    "\n",
    "%run ../chap01/abalone.ipynb\n",
    "%run mlp.ipynb\n",
    "set_hidden([])\n",
    "abalone_exec()"
   ]
  },
  {
   "cell_type": "code",
   "execution_count": 2,
   "id": "129fe841",
   "metadata": {},
   "outputs": [
    {
     "name": "stdout",
     "output_type": "stream",
     "text": [
      "은닉 계층 하나를 갖는 다층 퍼셉트론이 작동되었습니다.\n",
      "Epoch100: loss=4.972, accuracy=0.834/0.823\n",
      "\n",
      "Final Test: final accuracy = 0.823\n"
     ]
    }
   ],
   "source": [
    "#은닉 계층 하나로 풀어보는 전복 고리 수 추정문제\n",
    "set_hidden(4)\n",
    "abalone_exec(epoch_count=100, report=100)"
   ]
  },
  {
   "cell_type": "code",
   "execution_count": 3,
   "id": "b4a7415e",
   "metadata": {},
   "outputs": [
    {
     "name": "stdout",
     "output_type": "stream",
     "text": [
      "은닉 계층 하나를 갖는 다층 퍼셉트론이 작동되었습니다.\n",
      "Epoch10: loss=7.327, accuracy=0.807/0.805\n",
      "Epoch20: loss=6.999, accuracy=0.807/0.816\n",
      "Epoch30: loss=6.066, accuracy=0.812/0.812\n",
      "Epoch40: loss=7.476, accuracy=0.798/0.811\n",
      "Epoch50: loss=6.198, accuracy=0.808/0.816\n",
      "\n",
      "Final Test: final accuracy = 0.816\n"
     ]
    }
   ],
   "source": [
    "#난수 함수의 효과 확인\n",
    "abalone_exec(epoch_count=50, report=10)"
   ]
  },
  {
   "cell_type": "code",
   "execution_count": 4,
   "id": "236db024",
   "metadata": {},
   "outputs": [
    {
     "name": "stdout",
     "output_type": "stream",
     "text": [
      "은닉 계층 하나를 갖는 다층 퍼셉트론이 작동되었습니다.\n",
      "Epoch10: loss=0.152, accuracy=0.914/0.911\n",
      "Epoch20: loss=0.168, accuracy=0.940/0.955\n",
      "Epoch30: loss=0.154, accuracy=0.944/0.959\n",
      "Epoch40: loss=0.107, accuracy=0.962/0.962\n",
      "Epoch50: loss=0.125, accuracy=0.958/0.966\n",
      "\n",
      "Final Test: final accuracy = 0.966\n"
     ]
    }
   ],
   "source": [
    "#천체 펄서 판정문제\n",
    "%run ../chap02/pulsar.ipynb\n",
    "%run mlp.ipynb\n",
    "set_hidden(6)\n",
    "pulsar_exec(epoch_count=50, report=10)"
   ]
  },
  {
   "cell_type": "code",
   "execution_count": 5,
   "id": "97207ad9",
   "metadata": {},
   "outputs": [
    {
     "name": "stdout",
     "output_type": "stream",
     "text": [
      "은닉 계층 2개를 갖는 다층 퍼셉트론이 작동되었습니다.\n",
      "Epoch40: loss=0.201, accuracy=0.911/0.910\n",
      "Epoch80: loss=0.188, accuracy=0.902/0.910\n",
      "\n",
      "Final Test: final accuracy = 0.910\n"
     ]
    }
   ],
   "source": [
    "#은닉 계층 두 개로 풀어보는 펄서 여부 판정 문제\n",
    "%run ../chap02/pulsar.ipynb\n",
    "%run mlp.ipynb\n",
    "set_hidden([12,6])\n",
    "pulsar_exec(epoch_count=100, report=40)"
   ]
  },
  {
   "cell_type": "code",
   "execution_count": 6,
   "id": "c43759ae",
   "metadata": {},
   "outputs": [
    {
     "name": "stdout",
     "output_type": "stream",
     "text": [
      "은닉 계층 하나를 갖는 다층 퍼셉트론이 작동되었습니다.\n",
      "Epoch10: loss=1.910, accuracy=0.366/0.325\n",
      "Epoch20: loss=1.878, accuracy=0.360/0.325\n",
      "Epoch30: loss=1.852, accuracy=0.356/0.325\n",
      "Epoch40: loss=1.827, accuracy=0.344/0.325\n",
      "Epoch50: loss=1.812, accuracy=0.326/0.325\n",
      "\n",
      "Final Test: final accuracy = 0.325\n"
     ]
    }
   ],
   "source": [
    "#철판 재료의 불량 판별 문제\n",
    "%run ../chap03/steel.ipynb\n",
    "%run ../chap04/mlp.ipynb\n",
    "set_hidden(10)\n",
    "steel_exec(epoch_count=50, report=10)"
   ]
  },
  {
   "cell_type": "code",
   "execution_count": 7,
   "id": "4a9da243",
   "metadata": {},
   "outputs": [
    {
     "name": "stdout",
     "output_type": "stream",
     "text": [
      "은닉 계층 3개를 갖는 다층 퍼셉트론이 작동되었습니다.\n",
      "Epoch10: loss=1.912, accuracy=0.354/0.350\n",
      "Epoch20: loss=1.878, accuracy=0.366/0.350\n",
      "Epoch30: loss=1.862, accuracy=0.338/0.350\n",
      "Epoch40: loss=1.835, accuracy=0.346/0.350\n",
      "Epoch50: loss=1.813, accuracy=0.346/0.350\n",
      "\n",
      "Final Test: final accuracy = 0.350\n"
     ]
    }
   ],
   "source": [
    "#은닉 계층 세 개로 풀어보는 철판의 불량 판별 문제\n",
    "set_hidden([12,6,4])\n",
    "steel_exec(epoch_count=50, report=10)\n"
   ]
  },
  {
   "cell_type": "code",
   "execution_count": 8,
   "id": "5661a112",
   "metadata": {},
   "outputs": [
    {
     "name": "stdout",
     "output_type": "stream",
     "text": [
      "은닉 계층 3개를 갖는 다층 퍼셉트론이 작동되었습니다.\n",
      "Epoch10: loss=1.942, accuracy=0.356/0.384\n",
      "Epoch20: loss=1.936, accuracy=0.340/0.371\n",
      "Epoch30: loss=1.724, accuracy=0.268/0.197\n",
      "Epoch40: loss=1.593, accuracy=0.266/0.207\n",
      "Epoch50: loss=1.604, accuracy=0.320/0.212\n",
      "\n",
      "Final Test: final accuracy = 0.212\n"
     ]
    }
   ],
   "source": [
    "#학습률을 바꾸어 풀어보는 철판의 불량 판별 문제\n",
    "LEARNING_RATE=0.0001\n",
    "hidden_config = [12,6,4]\n",
    "steel_exec(epoch_count=50, report=10)"
   ]
  },
  {
   "cell_type": "code",
   "execution_count": null,
   "id": "63e34a8c",
   "metadata": {},
   "outputs": [],
   "source": []
  },
  {
   "cell_type": "code",
   "execution_count": null,
   "id": "324b7b1b",
   "metadata": {},
   "outputs": [],
   "source": []
  }
 ],
 "metadata": {
  "kernelspec": {
   "display_name": "Python 3",
   "language": "python",
   "name": "python3"
  },
  "language_info": {
   "codemirror_mode": {
    "name": "ipython",
    "version": 3
   },
   "file_extension": ".py",
   "mimetype": "text/x-python",
   "name": "python",
   "nbconvert_exporter": "python",
   "pygments_lexer": "ipython3",
   "version": "3.8.8"
  }
 },
 "nbformat": 4,
 "nbformat_minor": 5
}
