{
 "cells": [
  {
   "cell_type": "code",
   "execution_count": 35,
   "id": "bc0ce9f7",
   "metadata": {},
   "outputs": [],
   "source": [
    " # 다층 퍼셉트론 신경망 지원 함수 구현하기\n",
    "# 1.은닉 계층이 하나인 다층 퍼셉트론을 지원하는 세 함수 정의\n",
    "# 2.임의의 은닉 계층을 갖는 다층 퍼셉트론을 지원하는 세 함수 정의\n",
    "# 3.은닉 계층 구성 정보에 알맞은 함수를 호출하는 세 함수 재정의\n",
    "# 4.은닉 계층 구성 정보를 손쉽게 설정하는 함수 정의"
   ]
  },
  {
   "cell_type": "code",
   "execution_count": 36,
   "id": "efd13ce6",
   "metadata": {},
   "outputs": [],
   "source": [
    "#은닉 계층 하나를 위한 파라미터 생성 함수 정의\n",
    "def init_model_hidden1():\n",
    "    global pm_output, pm_hidden, input_cnt, output_cnt, hidden_cnt\n",
    "    \n",
    "    pm_hidden = alloc_param_pair([input_cnt, hidden_cnt])\n",
    "    pm_output = alloc_param_pair([hidden_cnt, output_cnt])\n",
    "    \n",
    "def alloc_param_pair(shape):\n",
    "    weight = np.random.normal(RND_MEAN, RND_STD, shape)\n",
    "    bias = np.zeros(shape[-1])\n",
    "    return {'w':weight, 'b':bias}"
   ]
  },
  {
   "cell_type": "code",
   "execution_count": 37,
   "id": "4820eec7",
   "metadata": {},
   "outputs": [],
   "source": [
    "#은닉 계층 하나를 위한 순전파 함수 정의\n",
    "\n",
    "def forward_neuralnet_hidden1(x):\n",
    "    global pm_output, pm_hidde\n",
    "    \n",
    "    hidden = relu(np.matmul(x, pm_hidden['w']) + pm_hidden['b'])\n",
    "    output = np.matmul(hidden, pm_output['w']) + pm_output['b']\n",
    "    \n",
    "    return output, [x, hidden]\n",
    "\n",
    "def relu(x):\n",
    "    return np.maximum(x,0)"
   ]
  },
  {
   "cell_type": "code",
   "execution_count": 38,
   "id": "bf715c33",
   "metadata": {},
   "outputs": [],
   "source": [
    "#은닉 계층 하나를 위한 역전파 함수 정의\n",
    "def backprop_neuralnet_hidden1(G_output, aux):\n",
    "    global pm_output, pm_hidden\n",
    "    \n",
    "    x, hidden = aux\n",
    "\n",
    "    g_output_w_out = hidden.transpose()                      \n",
    "    G_w_out = np.matmul(g_output_w_out, G_output)            \n",
    "    G_b_out = np.sum(G_output, axis=0)                       \n",
    "\n",
    "    g_output_hidden = pm_output['w'].transpose()             \n",
    "    G_hidden = np.matmul(G_output, g_output_hidden)          \n",
    "\n",
    "    pm_output['w'] -= LEARNING_RATE * G_w_out                \n",
    "    pm_output['b'] -= LEARNING_RATE * G_b_out                \n",
    "    \n",
    "    G_hidden = G_hidden * relu_derv(hidden)\n",
    "    \n",
    "    g_hidden_w_hid = x.transpose()                           \n",
    "    G_w_hid = np.matmul(g_hidden_w_hid, G_hidden)            \n",
    "    G_b_hid = np.sum(G_hidden, axis=0)                       \n",
    "    \n",
    "    pm_hidden['w'] -= LEARNING_RATE * G_w_hid                \n",
    "    pm_hidden['b'] -= LEARNING_RATE * G_b_hid                \n",
    "    \n",
    "def relu_derv(y):\n",
    "    return np.sign(y)"
   ]
  },
  {
   "cell_type": "code",
   "execution_count": 39,
   "id": "d1d45e60",
   "metadata": {},
   "outputs": [],
   "source": [
    "#가변적 은닉 계층 구성을 위한 파라미터 생성 함수 정의\n",
    "\n",
    "def init_model_hiddens():\n",
    "    global pm_output, pm_hiddens, input_cnt, output_cnt, hidden_config\n",
    "    \n",
    "    pm_hiddens = []\n",
    "    prev_cnt = input_cnt\n",
    "    \n",
    "    for hidden_cnt in hidden_config:\n",
    "        pm_hiddens.append(alloc_param_pair([prev_cnt, hidden_cnt]))\n",
    "        prev_cnt = hidden_cnt\n",
    "    \n",
    "    pm_output = alloc_param_pair([prev_cnt, output_cnt])"
   ]
  },
  {
   "cell_type": "code",
   "execution_count": 46,
   "id": "93725295",
   "metadata": {},
   "outputs": [],
   "source": [
    "#가변적 은닉 계층 구성을 위한 순전파 함수 정의\n",
    "def forward_neuralnet_hiddens(x):\n",
    "    global pm_output, pm_hiddens\n",
    "    \n",
    "    hidden = x\n",
    "    hiddens = [x]\n",
    "    \n",
    "    for pm_hidden in pm_hiddens:\n",
    "        hidden = relu(np.matmul(hidden, pm_hidden['w']) + pm_hidden['b'])\n",
    "        hiddens.append(hidden)\n",
    "        \n",
    "    output = np.matmul(hidden, pm_output['w']) + pm_output['b']\n",
    "    \n",
    "    return output, hiddens\n"
   ]
  },
  {
   "cell_type": "code",
   "execution_count": 44,
   "id": "508c6292",
   "metadata": {},
   "outputs": [],
   "source": [
    "#가변적 은닉 계층 구성을 위한 역전파 함수 정의\n",
    "def backprop_neuralnet_hiddens(G_output, aux):\n",
    "    global pm_output, pm_hiddens\n",
    "\n",
    "    hiddens = aux\n",
    "    \n",
    "    g_output_w_out = hiddens[-1].transpose()\n",
    "    G_w_out = np.matmul(g_output_w_out, G_output)\n",
    "    G_b_out = np.sum(G_output, axis=0)\n",
    "\n",
    "    g_output_hidden = pm_output['w'].transpose() \n",
    "    G_hidden = np.matmul(G_output, g_output_hidden)\n",
    "\n",
    "    pm_output['w'] -= LEARNING_RATE * G_w_out\n",
    "    pm_output['b'] -= LEARNING_RATE * G_b_out\n",
    "    \n",
    "    for n in reversed(range(len(pm_hiddens))):\n",
    "        G_hidden = G_hidden * relu_derv(hiddens[n+1])\n",
    "\n",
    "        g_hidden_w_hid = hiddens[n].transpose()\n",
    "        G_w_hid = np.matmul(g_hidden_w_hid, G_hidden)\n",
    "        G_b_hid = np.sum(G_hidden, axis=0)\n",
    "    \n",
    "        g_hidden_hidden = pm_hiddens[n]['w'].transpose()\n",
    "        G_hidden = np.matmul(G_hidden, g_hidden_hidden)\n",
    "\n",
    "        pm_hiddens[n]['w'] -= LEARNING_RATE * G_w_hid\n",
    "        pm_hiddens[n]['b'] -= LEARNING_RATE * G_b_hid"
   ]
  },
  {
   "cell_type": "code",
   "execution_count": 45,
   "id": "2d10bf38",
   "metadata": {},
   "outputs": [],
   "source": [
    "#스위치 함수 정의\n",
    "global hidden_config\n",
    "\n",
    "def init_model():\n",
    "    if hidden_config is not None:\n",
    "        print('은닉 계층 {}개를 갖는 다층 퍼셉트론이 작동되었습니다.'. \\\n",
    "              format(len(hidden_config)))\n",
    "        init_model_hiddens()\n",
    "    else:\n",
    "        print('은닉 계층 하나를 갖는 다층 퍼셉트론이 작동되었습니다.')\n",
    "        init_model_hidden1()\n",
    "    \n",
    "def forward_neuralnet(x):\n",
    "    if hidden_config is not None:\n",
    "        return forward_neuralnet_hiddens(x)\n",
    "    else:\n",
    "        return forward_neuralnet_hidden1(x)\n",
    "    \n",
    "def backprop_neuralnet(G_output, hiddens):\n",
    "    if hidden_config is not None:\n",
    "        backprop_neuralnet_hiddens(G_output, hiddens)\n",
    "    else:\n",
    "        backprop_neuralnet_hidden1(G_output, hiddens)"
   ]
  },
  {
   "cell_type": "code",
   "execution_count": 1,
   "id": "b578ecb0",
   "metadata": {},
   "outputs": [],
   "source": [
    "#은닉 계층 구조 지정 함수 정의\n",
    "def set_hidden(info):\n",
    "    global hidden_cnt, hidden_config\n",
    "    if isinstance(info, int):\n",
    "        hidden_cnt = info\n",
    "        hidden_config = None\n",
    "    else:\n",
    "        hidden_config = info"
   ]
  },
  {
   "cell_type": "code",
   "execution_count": null,
   "id": "fc3c542b",
   "metadata": {},
   "outputs": [],
   "source": []
  },
  {
   "cell_type": "code",
   "execution_count": null,
   "id": "35bbb384",
   "metadata": {},
   "outputs": [],
   "source": []
  },
  {
   "cell_type": "code",
   "execution_count": null,
   "id": "5ad54f2f",
   "metadata": {},
   "outputs": [],
   "source": []
  }
 ],
 "metadata": {
  "kernelspec": {
   "display_name": "Python 3",
   "language": "python",
   "name": "python3"
  },
  "language_info": {
   "codemirror_mode": {
    "name": "ipython",
    "version": 3
   },
   "file_extension": ".py",
   "mimetype": "text/x-python",
   "name": "python",
   "nbconvert_exporter": "python",
   "pygments_lexer": "ipython3",
   "version": "3.8.8"
  }
 },
 "nbformat": 4,
 "nbformat_minor": 5
}
