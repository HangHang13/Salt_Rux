{
 "cells": [
  {
   "cell_type": "code",
   "execution_count": null,
   "id": "642dbf46",
   "metadata": {},
   "outputs": [],
   "source": []
  },
  {
   "cell_type": "code",
   "execution_count": null,
   "id": "298e33dd",
   "metadata": {},
   "outputs": [],
   "source": []
  },
  {
   "cell_type": "code",
   "execution_count": null,
   "id": "2ad6c526",
   "metadata": {},
   "outputs": [],
   "source": []
  },
  {
   "cell_type": "code",
   "execution_count": 1,
   "id": "a5084fa4",
   "metadata": {},
   "outputs": [],
   "source": [
    "%run C:\\Users\\dhkdw\\ipython\\DeepLearning\\chap01\\abalone.ipynb"
   ]
  },
  {
   "cell_type": "code",
   "execution_count": 2,
   "id": "1d5189d8",
   "metadata": {},
   "outputs": [
    {
     "name": "stdout",
     "output_type": "stream",
     "text": [
      "Epoch1: loss=102.255, accuracy=0.025/0.056\n",
      "Epoch2: loss=101.647, accuracy=0.082/0.112\n",
      "Epoch3: loss=88.993, accuracy=0.141/0.167\n",
      "Epoch4: loss=68.039, accuracy=0.189/0.212\n",
      "Epoch5: loss=70.274, accuracy=0.232/0.259\n",
      "Epoch6: loss=58.092, accuracy=0.283/0.302\n",
      "Epoch7: loss=59.852, accuracy=0.316/0.343\n",
      "Epoch8: loss=50.557, accuracy=0.358/0.380\n",
      "Epoch9: loss=44.589, accuracy=0.394/0.417\n",
      "Epoch10: loss=44.187, accuracy=0.439/0.453\n",
      "\n",
      "Final Test: final accuracy = 0.453\n"
     ]
    }
   ],
   "source": [
    "abalone_exec()"
   ]
  },
  {
   "cell_type": "code",
   "execution_count": 3,
   "id": "bcd2a8a3",
   "metadata": {},
   "outputs": [
    {
     "name": "stdout",
     "output_type": "stream",
     "text": [
      "[[0.38399109]\n",
      " [0.61506286]\n",
      " [0.52756693]\n",
      " [0.8323774 ]\n",
      " [0.6477082 ]\n",
      " [0.23057811]\n",
      " [1.39502425]\n",
      " [0.58746208]\n",
      " [0.29957597]\n",
      " [0.40729526]]\n"
     ]
    }
   ],
   "source": [
    "print(weight)"
   ]
  },
  {
   "cell_type": "code",
   "execution_count": 4,
   "id": "d85a1c6d",
   "metadata": {},
   "outputs": [
    {
     "name": "stdout",
     "output_type": "stream",
     "text": [
      "0.001\n",
      "[1.52448137]\n"
     ]
    }
   ],
   "source": [
    "print(LEARNING_RATE)\n",
    "print(bias)"
   ]
  },
  {
   "cell_type": "code",
   "execution_count": 5,
   "id": "aed40ffb",
   "metadata": {},
   "outputs": [],
   "source": [
    "LEARNING_RATE=0.01"
   ]
  },
  {
   "cell_type": "code",
   "execution_count": 6,
   "id": "7d4bc15c",
   "metadata": {},
   "outputs": [
    {
     "name": "stderr",
     "output_type": "stream",
     "text": [
      "C:\\Users\\dhkdw\\anaconda3\\lib\\site-packages\\numpy\\core\\fromnumeric.py:3419: RuntimeWarning: Mean of empty slice.\n",
      "  return _methods._mean(a, axis=axis, dtype=dtype,\n",
      "C:\\Users\\dhkdw\\anaconda3\\lib\\site-packages\\numpy\\core\\_methods.py:188: RuntimeWarning: invalid value encountered in double_scalars\n",
      "  ret = ret.dtype.type(ret / rcount)\n"
     ]
    },
    {
     "name": "stdout",
     "output_type": "stream",
     "text": [
      "Epoch20: loss=  nan, accuracy=  nan/0.808\n",
      "Epoch40: loss=  nan, accuracy=  nan/0.811\n",
      "Epoch60: loss=  nan, accuracy=  nan/0.814\n",
      "Epoch80: loss=  nan, accuracy=  nan/0.815\n",
      "Epoch100: loss=  nan, accuracy=  nan/0.818\n",
      "\n",
      "Final Test: final accuracy = 0.818\n"
     ]
    }
   ],
   "source": [
    "abalone_exec(100,100,20)"
   ]
  },
  {
   "cell_type": "code",
   "execution_count": 7,
   "id": "f1a9e9e1",
   "metadata": {},
   "outputs": [
    {
     "data": {
      "text/plain": [
       "0.33333333333333337"
      ]
     },
     "execution_count": 7,
     "metadata": {},
     "output_type": "execute_result"
    }
   ],
   "source": [
    "eval_accuracy(1,3)"
   ]
  },
  {
   "cell_type": "code",
   "execution_count": null,
   "id": "aece7fa8",
   "metadata": {},
   "outputs": [],
   "source": []
  }
 ],
 "metadata": {
  "kernelspec": {
   "display_name": "Python 3",
   "language": "python",
   "name": "python3"
  },
  "language_info": {
   "codemirror_mode": {
    "name": "ipython",
    "version": 3
   },
   "file_extension": ".py",
   "mimetype": "text/x-python",
   "name": "python",
   "nbconvert_exporter": "python",
   "pygments_lexer": "ipython3",
   "version": "3.8.8"
  }
 },
 "nbformat": 4,
 "nbformat_minor": 5
}
