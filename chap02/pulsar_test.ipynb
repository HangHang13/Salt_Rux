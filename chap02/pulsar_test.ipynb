{
 "cells": [
  {
   "cell_type": "code",
   "execution_count": 4,
   "id": "e669299f",
   "metadata": {},
   "outputs": [],
   "source": [
    "%run pulsar.ipynb"
   ]
  },
  {
   "cell_type": "code",
   "execution_count": 5,
   "id": "04041ee2",
   "metadata": {},
   "outputs": [],
   "source": [
    "#%run abalone.ipynb"
   ]
  },
  {
   "cell_type": "code",
   "execution_count": 6,
   "id": "a689fd1c",
   "metadata": {},
   "outputs": [
    {
     "name": "stdout",
     "output_type": "stream",
     "text": [
      "Epoch1: loss=0.337, accuracy=0.870/0.939\n",
      "Epoch2: loss=0.131, accuracy=0.960/0.945\n",
      "Epoch3: loss=0.327, accuracy=0.890/0.956\n",
      "Epoch4: loss=0.177, accuracy=0.950/0.955\n",
      "Epoch5: loss=0.157, accuracy=0.950/0.953\n",
      "Epoch6: loss=0.573, accuracy=0.910/0.937\n",
      "Epoch7: loss=0.194, accuracy=0.960/0.959\n",
      "Epoch8: loss=0.414, accuracy=0.940/0.966\n",
      "Epoch9: loss=0.093, accuracy=0.950/0.957\n",
      "Epoch10: loss=0.041, accuracy=0.970/0.963\n",
      "Epoch11: loss=0.303, accuracy=0.920/0.939\n",
      "Epoch12: loss=0.158, accuracy=0.960/0.948\n",
      "Epoch13: loss=0.293, accuracy=0.930/0.948\n",
      "Epoch14: loss=0.392, accuracy=0.890/0.967\n",
      "Epoch15: loss=0.314, accuracy=0.970/0.968\n",
      "Epoch16: loss=0.066, accuracy=0.980/0.968\n",
      "Epoch17: loss=0.033, accuracy=0.990/0.970\n",
      "Epoch18: loss=0.159, accuracy=0.940/0.969\n",
      "Epoch19: loss=0.142, accuracy=0.960/0.936\n",
      "Epoch20: loss=0.198, accuracy=0.920/0.967\n",
      "\n",
      "Final Test: final accuracy = 0.967\n"
     ]
    }
   ],
   "source": [
    "pulsar_exec(20,5,1)"
   ]
  },
  {
   "cell_type": "code",
   "execution_count": 4,
   "id": "f5e36968",
   "metadata": {},
   "outputs": [
    {
     "name": "stdout",
     "output_type": "stream",
     "text": [
      "Epoch1: loss=-0.319, accuracy=1.000/1.000\n",
      "Epoch2: loss=-3.189, accuracy=1.000/1.000\n",
      "Epoch3: loss=-5.343, accuracy=1.000/1.000\n",
      "Epoch4: loss=-8.182, accuracy=1.000/1.000\n",
      "Epoch5: loss=-11.159, accuracy=1.000/1.000\n",
      "Epoch6: loss=-13.574, accuracy=1.000/1.000\n",
      "Epoch7: loss=-14.412, accuracy=1.000/1.000\n",
      "Epoch8: loss=-18.959, accuracy=1.000/1.000\n",
      "Epoch9: loss=-19.713, accuracy=1.000/1.000\n",
      "Epoch10: loss=-21.331, accuracy=1.000/1.000\n",
      "\n",
      "Final Test: final accuracy = 1.000\n"
     ]
    }
   ],
   "source": []
  },
  {
   "cell_type": "code",
   "execution_count": null,
   "id": "e882565c",
   "metadata": {},
   "outputs": [],
   "source": []
  }
 ],
 "metadata": {
  "kernelspec": {
   "display_name": "Python 3",
   "language": "python",
   "name": "python3"
  },
  "language_info": {
   "codemirror_mode": {
    "name": "ipython",
    "version": 3
   },
   "file_extension": ".py",
   "mimetype": "text/x-python",
   "name": "python",
   "nbconvert_exporter": "python",
   "pygments_lexer": "ipython3",
   "version": "3.8.8"
  }
 },
 "nbformat": 4,
 "nbformat_minor": 5
}
