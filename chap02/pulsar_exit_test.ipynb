{
 "cells": [
  {
   "cell_type": "code",
   "execution_count": 1,
   "id": "ac7acc38",
   "metadata": {},
   "outputs": [],
   "source": [
    "%run pulsar_exit.ipynb"
   ]
  },
  {
   "cell_type": "code",
   "execution_count": 3,
   "id": "163ba306",
   "metadata": {},
   "outputs": [
    {
     "name": "stdout",
     "output_type": "stream",
     "text": [
      "Epoch 1: loss=0.326, return=0.492,0.959,0.876,0.916\n",
      "\n",
      "Final Test: final result = 0.492,0.959,0.876,0.916\n",
      "Epoch 2: loss=0.307, return=0.492,0.639,0.982,0.774\n",
      "\n",
      "Final Test: final result = 0.492,0.639,0.982,0.774\n",
      "Epoch 3: loss=0.300, return=0.492,0.936,0.905,0.920\n",
      "\n",
      "Final Test: final result = 0.492,0.936,0.905,0.920\n",
      "Epoch 4: loss=0.295, return=0.492,0.967,0.877,0.920\n",
      "\n",
      "Final Test: final result = 0.492,0.967,0.877,0.920\n",
      "Epoch 5: loss=0.285, return=0.492,0.963,0.891,0.926\n",
      "\n",
      "Final Test: final result = 0.492,0.963,0.891,0.926\n",
      "Epoch 6: loss=0.286, return=0.492,0.937,0.915,0.926\n",
      "\n",
      "Final Test: final result = 0.492,0.937,0.915,0.926\n",
      "Epoch 7: loss=0.290, return=0.492,0.977,0.871,0.921\n",
      "\n",
      "Final Test: final result = 0.492,0.977,0.871,0.921\n",
      "Epoch 8: loss=0.283, return=0.492,0.923,0.921,0.922\n",
      "\n",
      "Final Test: final result = 0.492,0.923,0.921,0.922\n",
      "Epoch 9: loss=0.284, return=0.492,0.816,0.950,0.878\n",
      "\n",
      "Final Test: final result = 0.492,0.816,0.950,0.878\n",
      "Epoch 10: loss=0.291, return=0.492,0.994,0.796,0.884\n",
      "\n",
      "Final Test: final result = 0.492,0.994,0.796,0.884\n",
      "Epoch 11: loss=0.293, return=0.492,0.942,0.910,0.925\n",
      "\n",
      "Final Test: final result = 0.492,0.942,0.910,0.925\n",
      "Epoch 12: loss=0.300, return=0.492,0.943,0.910,0.926\n",
      "\n",
      "Final Test: final result = 0.492,0.943,0.910,0.926\n",
      "Epoch 13: loss=0.291, return=0.492,0.979,0.862,0.917\n",
      "\n",
      "Final Test: final result = 0.492,0.979,0.862,0.917\n",
      "Epoch 14: loss=0.289, return=0.492,0.964,0.893,0.927\n",
      "\n",
      "Final Test: final result = 0.492,0.964,0.893,0.927\n",
      "Epoch 15: loss=0.279, return=0.492,0.944,0.913,0.928\n",
      "\n",
      "Final Test: final result = 0.492,0.944,0.913,0.928\n",
      "Epoch 16: loss=0.279, return=0.492,0.913,0.924,0.918\n",
      "\n",
      "Final Test: final result = 0.492,0.913,0.924,0.918\n",
      "Epoch 17: loss=0.297, return=0.492,0.839,0.946,0.889\n",
      "\n",
      "Final Test: final result = 0.492,0.839,0.946,0.889\n",
      "Epoch 18: loss=0.296, return=0.492,0.850,0.925,0.886\n",
      "\n",
      "Final Test: final result = 0.492,0.850,0.925,0.886\n",
      "Epoch 19: loss=0.283, return=0.492,0.747,0.953,0.837\n",
      "\n",
      "Final Test: final result = 0.492,0.747,0.953,0.837\n",
      "Epoch 20: loss=0.290, return=0.492,0.949,0.909,0.928\n",
      "\n",
      "Final Test: final result = 0.492,0.949,0.909,0.928\n"
     ]
    }
   ],
   "source": [
    "pulsar_exec(20,20,1,adjust_ratio=True)"
   ]
  },
  {
   "cell_type": "code",
   "execution_count": 25,
   "id": "3b8a28ef",
   "metadata": {},
   "outputs": [
    {
     "name": "stdout",
     "output_type": "stream",
     "text": [
      "Epoch 1: loss=0.407, return=0.493,0.989,0.781,0.873\n",
      "\n",
      "Final Test: final result = 0.493,0.989,0.781,0.873\n",
      "Epoch 2: loss=0.385, return=0.493,0.620,0.977,0.759\n",
      "\n",
      "Final Test: final result = 0.493,0.620,0.977,0.759\n",
      "Epoch 3: loss=0.373, return=0.493,0.889,0.929,0.908\n",
      "\n",
      "Final Test: final result = 0.493,0.889,0.929,0.908\n",
      "Epoch 4: loss=0.390, return=0.493,0.939,0.911,0.925\n",
      "\n",
      "Final Test: final result = 0.493,0.939,0.911,0.925\n",
      "Epoch 5: loss=0.387, return=0.493,0.989,0.800,0.885\n",
      "\n",
      "Final Test: final result = 0.493,0.989,0.800,0.885\n",
      "Epoch 6: loss=0.376, return=0.493,0.955,0.896,0.925\n",
      "\n",
      "Final Test: final result = 0.493,0.955,0.896,0.925\n",
      "Epoch 7: loss=0.367, return=0.493,0.964,0.890,0.926\n",
      "\n",
      "Final Test: final result = 0.493,0.964,0.890,0.926\n",
      "Epoch 8: loss=0.369, return=0.493,0.891,0.921,0.906\n",
      "\n",
      "Final Test: final result = 0.493,0.891,0.921,0.906\n",
      "Epoch 9: loss=0.371, return=0.493,0.986,0.829,0.901\n",
      "\n",
      "Final Test: final result = 0.493,0.986,0.829,0.901\n",
      "Epoch 10: loss=0.357, return=0.493,0.976,0.869,0.919\n",
      "\n",
      "Final Test: final result = 0.493,0.976,0.869,0.919\n"
     ]
    }
   ],
   "source": [
    "pulsar_exec(adjust_ratio=True)"
   ]
  },
  {
   "cell_type": "code",
   "execution_count": null,
   "id": "dc2a7e30",
   "metadata": {},
   "outputs": [],
   "source": []
  }
 ],
 "metadata": {
  "kernelspec": {
   "display_name": "Python 3",
   "language": "python",
   "name": "python3"
  },
  "language_info": {
   "codemirror_mode": {
    "name": "ipython",
    "version": 3
   },
   "file_extension": ".py",
   "mimetype": "text/x-python",
   "name": "python",
   "nbconvert_exporter": "python",
   "pygments_lexer": "ipython3",
   "version": "3.8.8"
  }
 },
 "nbformat": 4,
 "nbformat_minor": 5
}
