{
 "cells": [
  {
   "cell_type": "code",
   "execution_count": 1,
   "id": "2d7fb180",
   "metadata": {},
   "outputs": [],
   "source": [
    "\n",
    "%run ../chap01/abalone.ipynb"
   ]
  },
  {
   "cell_type": "code",
   "execution_count": 8,
   "id": "9a444ab0",
   "metadata": {},
   "outputs": [],
   "source": [
    "#메인함수 정의\n",
    "def pulsar_exec(epoch_count=10, mb_size=10, report=1):\n",
    "    load_pulsar_dataset()\n",
    "    init_model()\n",
    "    train_and_test(epoch_count, mb_size, report)"
   ]
  },
  {
   "cell_type": "code",
   "execution_count": 2,
   "id": "38e0b505",
   "metadata": {},
   "outputs": [],
   "source": [
    "#데이터 적재함수 정의\n",
    "def load_pulsar_dataset():\n",
    "    with open(r'C:\\Users\\dhkdw\\ipython\\DeepLearning\\chap02\\pulsar_stars.csv') as csvfile:\n",
    "        csvreader = csv.reader(csvfile)\n",
    "        next(csvreader, None)\n",
    "        rows=[]\n",
    "        for row in csvreader:\n",
    "            rows.append(row)\n",
    "            \n",
    "    global data, input_cnt, output_cnt\n",
    "    input_cnt, output_cnt = 8,1\n",
    "    data = np.asarray(rows, dtype = 'float32')"
   ]
  },
  {
   "cell_type": "code",
   "execution_count": 3,
   "id": "faf209d6",
   "metadata": {},
   "outputs": [],
   "source": [
    "#후처리 과정에 대한 순전파와 역전파 함수의 재정의\n",
    "def forward_postproc(output, y):\n",
    "    entropy = sigmoid_cross_entropy_with_logits(y, output)\n",
    "    loss = np.mean(entropy)\n",
    "    return loss, [y, output, entropy]\n",
    "\n",
    "def backprop_postproc(G_loss, aux):\n",
    "    y, output, entropy = aux\n",
    "    \n",
    "    g_loss_entropy = 1.0 / np.prod(entropy.shape)\n",
    "    g_entropy_output = sigmoid_cross_entropy_with_logits_derv(y, output)\n",
    "    \n",
    "    G_entropy = g_loss_entropy*G_loss\n",
    "    G_output = g_entropy_output*G_entropy\n",
    "    \n",
    "    return G_output"
   ]
  },
  {
   "cell_type": "code",
   "execution_count": 4,
   "id": "6ea534a5",
   "metadata": {},
   "outputs": [],
   "source": [
    "#정확도 계산 함수의 재정의\n",
    "def eval_accuracy(output, y):\n",
    "    estimate = np.greater(output, 0)\n",
    "    answer = np.greater(y, 0.5)\n",
    "    correct = np.equal(estimate, answer)\n",
    "    \n",
    "    return np.mean(correct)"
   ]
  },
  {
   "cell_type": "code",
   "execution_count": 5,
   "id": "fd27e1a6",
   "metadata": {},
   "outputs": [],
   "source": [
    "#시그모이드 관련 함수 정의\n",
    "def relu(x):\n",
    "    return np.maximum(x,0)\n",
    "def sigmoid(x):\n",
    "    return np.exp(-relu(-x))/(1.0+np.exp(-np.abs(x)))\n",
    "\n",
    "def sigmoid_derv(x,y):\n",
    "    return y*(1-y)\n",
    "\n",
    "def sigmoid_cross_entropy_with_logits(z,x):\n",
    "    return relu(x)- x * z + np.log(1 + np.exp(-np.abs(x)))\n",
    "\n",
    "def sigmoid_cross_entropy_with_logits_derv(z, x):\n",
    "    return -z + sigmoid(x)"
   ]
  },
  {
   "cell_type": "code",
   "execution_count": null,
   "id": "8cd12257",
   "metadata": {},
   "outputs": [],
   "source": []
  },
  {
   "cell_type": "code",
   "execution_count": null,
   "id": "7d1130a1",
   "metadata": {},
   "outputs": [],
   "source": []
  },
  {
   "cell_type": "code",
   "execution_count": null,
   "id": "894e6100",
   "metadata": {},
   "outputs": [],
   "source": []
  }
 ],
 "metadata": {
  "kernelspec": {
   "display_name": "Python 3",
   "language": "python",
   "name": "python3"
  },
  "language_info": {
   "codemirror_mode": {
    "name": "ipython",
    "version": 3
   },
   "file_extension": ".py",
   "mimetype": "text/x-python",
   "name": "python",
   "nbconvert_exporter": "python",
   "pygments_lexer": "ipython3",
   "version": "3.8.8"
  }
 },
 "nbformat": 4,
 "nbformat_minor": 5
}
